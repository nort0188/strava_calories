{
 "cells": [
  {
   "cell_type": "code",
   "execution_count": 78,
   "id": "90409e6c",
   "metadata": {},
   "outputs": [],
   "source": [
    "import numpy as np\n",
    "data = np.genfromtxt('activities.csv',delimiter=',',dtype=None, encoding='UTF-8',names=True)"
   ]
  },
  {
   "cell_type": "code",
   "execution_count": 79,
   "id": "f53336af",
   "metadata": {},
   "outputs": [],
   "source": [
    "y= np.reshape(data['Calories'], (-1,1))\n",
    "x1= np.reshape(data['Elapsed_Time'], (-1,1))\n",
    "x2= np.reshape(data['Distance'], (-1,1))\n",
    "x3= np.reshape(data['Elevation_Gain'], (-1,1))\n",
    "x4= np.reshape(data['Athlete_Weight'], (-1,1))\n",
    "\n",
    "X = np.concatenate((x1, x2, x3, x4),axis=1)"
   ]
  },
  {
   "cell_type": "code",
   "execution_count": 86,
   "id": "2e2760bd",
   "metadata": {},
   "outputs": [
    {
     "data": {
      "text/plain": [
       "LinearRegression()"
      ]
     },
     "execution_count": 86,
     "metadata": {},
     "output_type": "execute_result"
    }
   ],
   "source": [
    "from sklearn.model_selection import train_test_split\n",
    "import sklearn.linear_model as lm\n",
    "\n",
    "X_train, X_test, y_train, y_test = train_test_split(X, y, test_size= 0.3)\n",
    "\n",
    "reg_model= lm.LinearRegression()\n",
    "reg_model.fit(X_train, y_train)"
   ]
  },
  {
   "cell_type": "code",
   "execution_count": 87,
   "id": "461359a9",
   "metadata": {},
   "outputs": [
    {
     "name": "stdout",
     "output_type": "stream",
     "text": [
      "Model:\n",
      "b0 (Intercept): 688.7992659772519\n",
      "b1 (Elapsed Time): 0.07193677046937105\n",
      "b2 (Distance): 10.852583541236585\n",
      "b3 (Elevation Gain): 0.6795884541125723\n",
      "b4 (Athlete Weight): -6.467623555484411\n"
     ]
    }
   ],
   "source": [
    "intercept= reg_model.intercept_\n",
    "coef= reg_model.coef_\n",
    "\n",
    "print('Model:')\n",
    "print('b0 (Intercept):', intercept[0])\n",
    "print('b1 (Elapsed Time):', coef[0,0])\n",
    "print('b2 (Distance):', coef[0,1])\n",
    "print('b3 (Elevation Gain):', coef[0,2])\n",
    "print('b4 (Athlete Weight):', coef[0,3])"
   ]
  },
  {
   "cell_type": "code",
   "execution_count": 88,
   "id": "ba3f79c6",
   "metadata": {},
   "outputs": [
    {
     "name": "stdout",
     "output_type": "stream",
     "text": [
      "Metrics:\n",
      "R-squared: 0.8406765675755397\n",
      "MSE: 22681.76759411114\n",
      "RMSE: 150.60467321471515\n"
     ]
    }
   ],
   "source": [
    "import sklearn.metrics as met\n",
    "\n",
    "y_hat_test= reg_model.predict(X_test)\n",
    "\n",
    "print('Metrics:')\n",
    "print('R-squared:', reg_model.score(X_test, y_test))\n",
    "print('MSE:', met.mean_squared_error(y_test, y_hat_test))\n",
    "print('RMSE:', met.mean_squared_error(y_test, y_hat_test, squared= False))"
   ]
  },
  {
   "cell_type": "code",
   "execution_count": null,
   "id": "70e7ff63",
   "metadata": {},
   "outputs": [],
   "source": []
  }
 ],
 "metadata": {
  "kernelspec": {
   "display_name": "Python 3 (ipykernel)",
   "language": "python",
   "name": "python3"
  },
  "language_info": {
   "codemirror_mode": {
    "name": "ipython",
    "version": 3
   },
   "file_extension": ".py",
   "mimetype": "text/x-python",
   "name": "python",
   "nbconvert_exporter": "python",
   "pygments_lexer": "ipython3",
   "version": "3.9.13"
  }
 },
 "nbformat": 4,
 "nbformat_minor": 5
}
